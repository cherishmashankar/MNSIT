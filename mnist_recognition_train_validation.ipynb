{
  "nbformat": 4,
  "nbformat_minor": 0,
  "metadata": {
    "colab": {
      "name": "mnist_recognition.ipynb",
      "version": "0.3.2",
      "provenance": [],
      "collapsed_sections": [],
      "include_colab_link": true
    },
    "kernelspec": {
      "name": "python3",
      "display_name": "Python 3"
    }
  },
  "cells": [
    {
      "cell_type": "markdown",
      "metadata": {
        "id": "view-in-github",
        "colab_type": "text"
      },
      "source": [
        "<a href=\"https://colab.research.google.com/github/Srikanth-Kb/MNIST_Recognition/blob/master/mnist_recognition_train_validation.ipynb\" target=\"_parent\"><img src=\"https://colab.research.google.com/assets/colab-badge.svg\" alt=\"Open In Colab\"/></a>"
      ]
    },
    {
      "cell_type": "code",
      "metadata": {
        "id": "uI-CPnkUHOyS",
        "colab_type": "code",
        "outputId": "f76efbdb-b0bd-4c64-b210-820c0ab5594f",
        "colab": {
          "base_uri": "https://localhost:8080/",
          "height": 126
        }
      },
      "source": [
        "!pip3 install torch torchvision"
      ],
      "execution_count": 1,
      "outputs": [
        {
          "output_type": "stream",
          "text": [
            "Requirement already satisfied: torch in /usr/local/lib/python3.6/dist-packages (1.1.0)\n",
            "Requirement already satisfied: torchvision in /usr/local/lib/python3.6/dist-packages (0.3.0)\n",
            "Requirement already satisfied: numpy in /usr/local/lib/python3.6/dist-packages (from torch) (1.16.4)\n",
            "Requirement already satisfied: pillow>=4.1.1 in /usr/local/lib/python3.6/dist-packages (from torchvision) (4.3.0)\n",
            "Requirement already satisfied: six in /usr/local/lib/python3.6/dist-packages (from torchvision) (1.12.0)\n",
            "Requirement already satisfied: olefile in /usr/local/lib/python3.6/dist-packages (from pillow>=4.1.1->torchvision) (0.46)\n"
          ],
          "name": "stdout"
        }
      ]
    },
    {
      "cell_type": "code",
      "metadata": {
        "id": "dwww3tjIHcrd",
        "colab_type": "code",
        "colab": {}
      },
      "source": [
        "import torch\n",
        "import matplotlib.pyplot as plt\n",
        "import numpy as np\n",
        "from torch import nn\n",
        "import torch.nn.functional as F\n",
        "from torchvision import datasets, transforms"
      ],
      "execution_count": 0,
      "outputs": []
    },
    {
      "cell_type": "code",
      "metadata": {
        "id": "ALF8t90YHtW_",
        "colab_type": "code",
        "colab": {}
      },
      "source": [
        "transform = transforms.Compose([transforms.ToTensor(), transforms.Normalize((0.5,), (0.5,))])\n",
        "training_dataset = datasets.MNIST(root='./data', train=True, download=True, transform=transform)\n",
        "validation_dataset = datasets.MNIST(root='./data', train=False, download=True, transform=transform)\n",
        "training_loader = torch.utils.data.DataLoader(dataset=training_dataset,batch_size=100, shuffle=True)\n",
        "validation_loader = torch.utils.data.DataLoader(validation_dataset, batch_size=100,shuffle=False)"
      ],
      "execution_count": 0,
      "outputs": []
    },
    {
      "cell_type": "code",
      "metadata": {
        "id": "BkpPUVRfIyw9",
        "colab_type": "code",
        "colab": {}
      },
      "source": [
        "def im_convert(tensor):\n",
        "  image = tensor.clone().detach().numpy()\n",
        "  image = image.transpose(1,2,0)\n",
        "  image = image*np.array((0.5,0.5,0.5))+np.array((0.5,0.5,0.5))\n",
        "  image = image.clip(0,1)\n",
        "  return image"
      ],
      "execution_count": 0,
      "outputs": []
    },
    {
      "cell_type": "code",
      "metadata": {
        "id": "7s6HcMlnNe25",
        "colab_type": "code",
        "outputId": "8ffde7c6-1c3a-427c-e999-b5c1d8b178ac",
        "colab": {
          "base_uri": "https://localhost:8080/",
          "height": 301
        }
      },
      "source": [
        "dataiter=iter(training_loader)\n",
        "images,labels = dataiter.next()\n",
        "fig = plt.figure(figsize=(25,4))\n",
        "\n",
        "for i in np.arange(20):\n",
        "  ax = fig.add_subplot(2,10,i+1)\n",
        "  plt.imshow(im_convert(images[i]))\n",
        "  ax.set_title([labels[i].item()])\n",
        "  \n"
      ],
      "execution_count": 5,
      "outputs": [
        {
          "output_type": "display_data",
          "data": {
            "image/png": "[encoded data removed]",
            "text/plain": [
              "<Figure size 1800x288 with 20 Axes>"
            ]
          },
          "metadata": {
            "tags": []
          }
        }
      ]
    },
    {
      "cell_type": "code",
      "metadata": {
        "id": "BX4FqkiKOt-6",
        "colab_type": "code",
        "colab": {}
      },
      "source": [
        "class Classifier(nn.Module):\n",
        "  def __init__(self,D_in,H1,H2,D_out):\n",
        "    super().__init__()\n",
        "    self.linear1 = nn.Linear(D_in,H1)\n",
        "    self.linear2 = nn.Linear(H1,H2)\n",
        "    self.linear3 = nn.Linear(H2, D_out)\n",
        "  def forward(self, x):\n",
        "    x = F.relu(self.linear1(x))\n",
        "    x = F.relu(self.linear2(x))\n",
        "    x = self.linear3(x)\n",
        "    return x\n",
        "    "
      ],
      "execution_count": 0,
      "outputs": []
    },
    {
      "cell_type": "code",
      "metadata": {
        "id": "R59RWrdmQUNw",
        "colab_type": "code",
        "colab": {}
      },
      "source": [
        "model = Classifier(784, 125, 65, 10)"
      ],
      "execution_count": 0,
      "outputs": []
    },
    {
      "cell_type": "code",
      "metadata": {
        "id": "P_kX591GQjz-",
        "colab_type": "code",
        "colab": {}
      },
      "source": [
        "criterion = nn.CrossEntropyLoss()\n",
        "optimizer = torch.optim.Adam(model.parameters(), lr = 0.0001)"
      ],
      "execution_count": 0,
      "outputs": []
    },
    {
      "cell_type": "code",
      "metadata": {
        "id": "gV1oK334RiYq",
        "colab_type": "code",
        "colab": {
          "base_uri": "https://localhost:8080/",
          "height": 671
        },
        "outputId": "28207ae3-abb2-45cb-ba84-2bd303b071dc"
      },
      "source": [
        "epochs = 12\n",
        "running_loss_history = []\n",
        "running_correct_history = list()\n",
        "validation_loss_history = []\n",
        "validation_accuracy_history = []\n",
        "\n",
        "for e in range(epochs):\n",
        "  running_loss = 0.0 \n",
        "  running_corrects = 0.0\n",
        "  val_running_loss = 0.0  \n",
        "  val_running_corrects = 0.0\n",
        "  for inputs,labels in training_loader:\n",
        "    inputs = inputs.view(inputs.shape[0], -1)\n",
        "    outputs = model(inputs)\n",
        "    loss = criterion(outputs, labels)\n",
        "    \n",
        "    optimizer.zero_grad()\n",
        "    loss.backward()\n",
        "    optimizer.step()\n",
        "    \n",
        "    _, prediction = torch.max(outputs,1)\n",
        "    running_corrects+=torch.sum(prediction == labels.data)\n",
        "    running_loss+=loss.item()\n",
        "  else:\n",
        "    with torch.no_grad():\n",
        "      \n",
        "      for val_inputs,val_labels in validation_loader:\n",
        "        val_inputs = val_inputs.view(val_inputs.shape[0],-1)\n",
        "        val_outputs = model(val_inputs)\n",
        "        val_loss = criterion(val_outputs, val_labels)\n",
        "        \n",
        "        _, val_preds= torch.max(val_outputs,1)\n",
        "        val_running_loss += val_loss.item()\n",
        "        val_running_corrects += torch.sum(val_preds==val_labels.data)\n",
        "        \n",
        "    \n",
        "    \n",
        "    print('epoch number:',e)\n",
        "    \n",
        "    epoch_loss = running_loss/len(training_loader)\n",
        "    epoch_acc = running_corrects.float()/len(training_loader)\n",
        "    running_loss_history.append(epoch_loss)\n",
        "    running_correct_history.append(epoch_acc)\n",
        "    print('training loss:{:.4f},acc:{:.4f}'.format(epoch_loss, epoch_acc.item()))\n",
        "    \n",
        "    val_epoch_loss = val_running_loss/len(validation_loader)\n",
        "    val_epoch_acc = val_running_corrects.float()/len(validation_loader)\n",
        "    validation_loss_history.append(val_epoch_loss)\n",
        "    validation_accuracy_history.append(val_epoch_acc)\n",
        "    print('validation loss:{:.4f},acc:{:.4f}'.format(val_epoch_loss,val_epoch_acc.item()))\n",
        "\n",
        "    "
      ],
      "execution_count": 9,
      "outputs": [
        {
          "output_type": "stream",
          "text": [
            "epoch number: 0\n",
            "training loss:0.9680,acc:76.0250\n",
            "validation loss:0.4307,acc:88.6700\n",
            "epoch number: 1\n",
            "training loss:0.3832,acc:89.4217\n",
            "validation loss:0.3230,acc:91.0200\n",
            "epoch number: 2\n",
            "training loss:0.3189,acc:90.8383\n",
            "validation loss:0.2851,acc:91.9200\n",
            "epoch number: 3\n",
            "training loss:0.2835,acc:91.8133\n",
            "validation loss:0.2571,acc:92.5900\n",
            "epoch number: 4\n",
            "training loss:0.2575,acc:92.5750\n",
            "validation loss:0.2376,acc:93.3100\n",
            "epoch number: 5\n",
            "training loss:0.2343,acc:93.2400\n",
            "validation loss:0.2161,acc:93.7300\n",
            "epoch number: 6\n",
            "training loss:0.2148,acc:93.8583\n",
            "validation loss:0.2020,acc:94.0700\n",
            "epoch number: 7\n",
            "training loss:0.1994,acc:94.2933\n",
            "validation loss:0.1922,acc:94.4600\n",
            "epoch number: 8\n",
            "training loss:0.1851,acc:94.6833\n",
            "validation loss:0.1756,acc:94.8600\n",
            "epoch number: 9\n",
            "training loss:0.1717,acc:95.0367\n",
            "validation loss:0.1665,acc:94.9300\n",
            "epoch number: 10\n",
            "training loss:0.1605,acc:95.3350\n",
            "validation loss:0.1559,acc:95.2800\n",
            "epoch number: 11\n",
            "training loss:0.1492,acc:95.6550\n",
            "validation loss:0.1534,acc:95.4300\n"
          ],
          "name": "stdout"
        }
      ]
    },
    {
      "cell_type": "code",
      "metadata": {
        "id": "vhUKmhPoVKKU",
        "colab_type": "code",
        "colab": {
          "base_uri": "https://localhost:8080/",
          "height": 287
        },
        "outputId": "886efd62-b7ae-4424-b6f8-a1f1c6d2af5c"
      },
      "source": [
        "plt.plot(running_loss_history, label='training-loss')\n",
        "plt.plot(validation_loss_history, label='validation-loss')\n",
        "plt.legend()\n",
        "        \n",
        "        "
      ],
      "execution_count": 10,
      "outputs": [
        {
          "output_type": "execute_result",
          "data": {
            "text/plain": [
              "<matplotlib.legend.Legend at 0x7fc01a1bb898>"
            ]
          },
          "metadata": {
            "tags": []
          },
          "execution_count": 10
        },
        {
          "output_type": "display_data",
          "data": {
            "image/png": "[encoded data removed]",
            "text/plain": [
              "<Figure size 432x288 with 1 Axes>"
            ]
          },
          "metadata": {
            "tags": []
          }
        }
      ]
    },
    {
      "cell_type": "code",
      "metadata": {
        "id": "8gbWF4LDboiF",
        "colab_type": "code",
        "colab": {
          "base_uri": "https://localhost:8080/",
          "height": 287
        },
        "outputId": "3152f431-b486-42bd-bc92-3459f1e705a9"
      },
      "source": [
        "plt.plot(running_correct_history, label='training-accuracy')\n",
        "plt.plot(validation_accuracy_history, label='validation-accuracy')\n"
      ],
      "execution_count": 11,
      "outputs": [
        {
          "output_type": "execute_result",
          "data": {
            "text/plain": [
              "[<matplotlib.lines.Line2D at 0x7fc01d183198>]"
            ]
          },
          "metadata": {
            "tags": []
          },
          "execution_count": 11
        },
        {
          "output_type": "display_data",
          "data": {
            "image/png": "[encoded data removed]",
            "text/plain": [
              "<Figure size 432x288 with 1 Axes>"
            ]
          },
          "metadata": {
            "tags": []
          }
        }
      ]
    }
  ]
}